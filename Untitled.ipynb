{
 "cells": [
  {
   "cell_type": "code",
   "execution_count": null,
   "id": "6ffcd595-6b19-46ae-bb43-063cd6986935",
   "metadata": {},
   "outputs": [],
   "source": []
  }
 ],
 "metadata": {
  "kernelspec": {
   "display_name": "",
   "name": ""
  },
  "language_info": {
   "name": ""
  }
 },
 "nbformat": 4,
 "nbformat_minor": 5
}
